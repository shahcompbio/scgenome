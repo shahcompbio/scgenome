{
 "cells": [
  {
   "cell_type": "code",
   "execution_count": 1,
   "id": "frank-friendship",
   "metadata": {},
   "outputs": [],
   "source": [
    "\n",
    "import scgenome\n"
   ]
  },
  {
   "cell_type": "code",
   "execution_count": 9,
   "id": "small-samba",
   "metadata": {},
   "outputs": [
    {
     "data": {
      "text/plain": [
       "<function scgenome.preprocessing.load_cn.read_dlp_hmmcopy(hmmcopy_results_dir, annotation_results_dir)>"
      ]
     },
     "execution_count": 9,
     "metadata": {},
     "output_type": "execute_result"
    }
   ],
   "source": [
    "\n",
    "scgenome.pp.read_dlp_hmmcopy\n"
   ]
  },
  {
   "cell_type": "code",
   "execution_count": 5,
   "id": "involved-experiment",
   "metadata": {},
   "outputs": [
    {
     "data": {
      "text/plain": [
       "<function scgenome.preprocessing.filtering.filter_cells(adata, *args, **kwargs)>"
      ]
     },
     "execution_count": 5,
     "metadata": {},
     "output_type": "execute_result"
    }
   ],
   "source": [
    "\n",
    "scgenome.pp.filter_cells\n"
   ]
  },
  {
   "cell_type": "code",
   "execution_count": 7,
   "id": "sudden-anthony",
   "metadata": {},
   "outputs": [
    {
     "data": {
      "text/plain": [
       "<function scgenome.plotting.heatmap.plot_cn_heatmap(adata, *args, **kwargs)>"
      ]
     },
     "execution_count": 7,
     "metadata": {},
     "output_type": "execute_result"
    }
   ],
   "source": [
    "\n",
    "scgenome.pl.plot_cn_heatmap\n"
   ]
  },
  {
   "cell_type": "code",
   "execution_count": 8,
   "id": "found-consortium",
   "metadata": {},
   "outputs": [
    {
     "data": {
      "text/plain": [
       "<function scgenome.tools.cluster.cluster_cells(adata, method='kmeans')>"
      ]
     },
     "execution_count": 8,
     "metadata": {},
     "output_type": "execute_result"
    }
   ],
   "source": [
    "\n",
    "scgenome.tl.cluster_cells\n"
   ]
  },
  {
   "cell_type": "code",
   "execution_count": null,
   "id": "infectious-steam",
   "metadata": {},
   "outputs": [],
   "source": []
  }
 ],
 "metadata": {
  "kernelspec": {
   "display_name": "Python 3",
   "language": "python",
   "name": "python3"
  },
  "language_info": {
   "codemirror_mode": {
    "name": "ipython",
    "version": 3
   },
   "file_extension": ".py",
   "mimetype": "text/x-python",
   "name": "python",
   "nbconvert_exporter": "python",
   "pygments_lexer": "ipython3",
   "version": "3.7.4"
  }
 },
 "nbformat": 4,
 "nbformat_minor": 5
}
